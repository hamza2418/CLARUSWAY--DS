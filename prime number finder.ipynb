{
 "cells": [
  {
   "cell_type": "code",
   "execution_count": 22,
   "id": "ca31bf0e",
   "metadata": {},
   "outputs": [
    {
     "name": "stdout",
     "output_type": "stream",
     "text": [
      "give me a number :13\n",
      "list of prime numbers [2, 3, 5, 7, 11]\n"
     ]
    }
   ],
   "source": [
    "number = int(input(\"give me a number :\"))\n",
    "prime_list = []\n",
    "def prime_finder(number):\n",
    "    count = 0\n",
    "    for i in range(number):\n",
    "        if i <= 1:\n",
    "            continue\n",
    "        for ii in range(2, i):\n",
    "            if (i % ii) == 0:\n",
    "                break\n",
    "        else:\n",
    "            prime_list.append(i)\n",
    "            count += 1\n",
    "\n",
    "prime_finder(number)\n",
    "print(\"list of prime numbers\" ,prime_list)\n"
   ]
  },
  {
   "cell_type": "code",
   "execution_count": null,
   "id": "45a3f18c",
   "metadata": {},
   "outputs": [],
   "source": []
  }
 ],
 "metadata": {
  "kernelspec": {
   "display_name": "Python 3 (ipykernel)",
   "language": "python",
   "name": "python3"
  },
  "language_info": {
   "codemirror_mode": {
    "name": "ipython",
    "version": 3
   },
   "file_extension": ".py",
   "mimetype": "text/x-python",
   "name": "python",
   "nbconvert_exporter": "python",
   "pygments_lexer": "ipython3",
   "version": "3.9.12"
  }
 },
 "nbformat": 4,
 "nbformat_minor": 5
}
