{
 "cells": [
  {
   "cell_type": "code",
   "execution_count": 32,
   "id": "fde2b3c1",
   "metadata": {},
   "outputs": [
    {
     "name": "stdout",
     "output_type": "stream",
     "text": [
      "range(0, 56)\n",
      "[3]\n"
     ]
    }
   ],
   "source": [
    "# fibonacci sayılar\n",
    "sayı = 55\n",
    "print(str(range(56)))\n",
    "fibnncci_nmbr = []\n",
    "i=0\n",
    "for i in range(56):\n",
    "    if range(56)[i] == range(56)[(i-1)]+range(56)[(i-2)]:\n",
    "        fibnncci_nmbr.append(i)\n",
    "        i=i+1\n",
    "print(fibnncci_nmbr)"
   ]
  },
  {
   "cell_type": "code",
   "execution_count": 28,
   "id": "b923d635",
   "metadata": {},
   "outputs": [
    {
     "data": {
      "text/plain": [
       "53"
      ]
     },
     "execution_count": 28,
     "metadata": {},
     "output_type": "execute_result"
    }
   ],
   "source": [
    "range(sayı)[i-2]"
   ]
  },
  {
   "cell_type": "code",
   "execution_count": null,
   "id": "6cba1cfc",
   "metadata": {},
   "outputs": [],
   "source": []
  }
 ],
 "metadata": {
  "kernelspec": {
   "display_name": "Python 3 (ipykernel)",
   "language": "python",
   "name": "python3"
  },
  "language_info": {
   "codemirror_mode": {
    "name": "ipython",
    "version": 3
   },
   "file_extension": ".py",
   "mimetype": "text/x-python",
   "name": "python",
   "nbconvert_exporter": "python",
   "pygments_lexer": "ipython3",
   "version": "3.9.12"
  }
 },
 "nbformat": 4,
 "nbformat_minor": 5
}
