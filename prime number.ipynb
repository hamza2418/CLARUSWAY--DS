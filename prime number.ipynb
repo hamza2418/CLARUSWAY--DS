{
 "cells": [
  {
   "cell_type": "code",
   "execution_count": 11,
   "id": "47e4c80e",
   "metadata": {},
   "outputs": [
    {
     "name": "stdout",
     "output_type": "stream",
     "text": [
      "give me a prime number :22\n",
      "22 is not a prime number\n"
     ]
    }
   ],
   "source": [
    "number= int(input('give me a prime number :'))\n",
    "i = 0\n",
    "for i in range(2,number):\n",
    "    if number %i != 0:\n",
    "        print(f\"{number}\", 'is a prime number')\n",
    "        break\n",
    "    else:\n",
    "        print(f\"{number}\", 'is not a prime number')\n",
    "        break"
   ]
  },
  {
   "cell_type": "code",
   "execution_count": null,
   "id": "d93524b1",
   "metadata": {},
   "outputs": [],
   "source": []
  }
 ],
 "metadata": {
  "kernelspec": {
   "display_name": "Python 3 (ipykernel)",
   "language": "python",
   "name": "python3"
  },
  "language_info": {
   "codemirror_mode": {
    "name": "ipython",
    "version": 3
   },
   "file_extension": ".py",
   "mimetype": "text/x-python",
   "name": "python",
   "nbconvert_exporter": "python",
   "pygments_lexer": "ipython3",
   "version": "3.9.12"
  }
 },
 "nbformat": 4,
 "nbformat_minor": 5
}
